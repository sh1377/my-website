{
  "nbformat": 4,
  "nbformat_minor": 0,
  "metadata": {
    "colab": {
      "name": "Final_Model.ipynb",
      "provenance": []
    },
    "kernelspec": {
      "name": "python3",
      "display_name": "Python 3"
    }
  },
  "cells": [
    {
      "cell_type": "markdown",
      "metadata": {
        "id": "JTk09wpd4JyB"
      },
      "source": [
        "#Leak Detection in Smart Water-Distribution System Using ANNs"
      ]
    },
    {
      "cell_type": "markdown",
      "metadata": {
        "id": "pgxZ7iRV4Rbp"
      },
      "source": [
        "##Library Imports"
      ]
    },
    {
      "cell_type": "code",
      "metadata": {
        "id": "AvEXTQzRLdBn"
      },
      "source": [
        "import numpy as np\n",
        "import pandas as pd\n",
        "import matplotlib.pyplot as plt\n",
        "import os\n",
        "import sys\n",
        "\n",
        "# حتما از tensorflow.keras استفاده کن\n",
        "from tensorflow.keras.models import Sequential, Model, load_model\n",
        "from tensorflow.keras.layers import Dense, Input, Dropout, Activation, BatchNormalization\n",
        "from tensorflow.keras.callbacks import EarlyStopping, ModelCheckpoint\n",
        "from tensorflow.keras import regularizers"
      ],
      "execution_count": null,
      "outputs": []
    },
    {
      "cell_type": "markdown",
      "metadata": {
        "id": "r6gtO0-G4V7A"
      },
      "source": [
        "##File Imports (For Google Colab)"
      ]
    },
    {
      "cell_type": "markdown",
      "metadata": {
        "id": "loKjc5H25zNO"
      },
      "source": [
        "These file imports have been created for google colab\n",
        "\n",
        "The original data (leakdata.csv) was filtered and shuffled. Then, the data was divided into training and testing data. It was further used as given"
      ]
    },
    {
      "cell_type": "code",
      "metadata": {
        "id": "3PzdtEYpLiMW",
        "outputId": "19872f54-4cf8-4af4-f176-e7c94e28b0b6",
        "colab": {
          "base_uri": "https://localhost:8080/",
          "height": 38
        }
      },
      "source": [
        "from google.colab import files\n",
        "uploaded = files.upload()"
      ],
      "execution_count": null,
      "outputs": [
        {
          "output_type": "display_data",
          "data": {
            "text/plain": [
              "<IPython.core.display.HTML object>"
            ],
            "text/html": [
              "\n",
              "     <input type=\"file\" id=\"files-289c4c92-4f24-49fe-9a8e-64e626680bf1\" name=\"files[]\" multiple disabled\n",
              "        style=\"border:none\" />\n",
              "     <output id=\"result-289c4c92-4f24-49fe-9a8e-64e626680bf1\">\n",
              "      Upload widget is only available when the cell has been executed in the\n",
              "      current browser session. Please rerun this cell to enable.\n",
              "      </output>\n",
              "      <script>// Copyright 2017 Google LLC\n",
              "//\n",
              "// Licensed under the Apache License, Version 2.0 (the \"License\");\n",
              "// you may not use this file except in compliance with the License.\n",
              "// You may obtain a copy of the License at\n",
              "//\n",
              "//      http://www.apache.org/licenses/LICENSE-2.0\n",
              "//\n",
              "// Unless required by applicable law or agreed to in writing, software\n",
              "// distributed under the License is distributed on an \"AS IS\" BASIS,\n",
              "// WITHOUT WARRANTIES OR CONDITIONS OF ANY KIND, either express or implied.\n",
              "// See the License for the specific language governing permissions and\n",
              "// limitations under the License.\n",
              "\n",
              "/**\n",
              " * @fileoverview Helpers for google.colab Python module.\n",
              " */\n",
              "(function(scope) {\n",
              "function span(text, styleAttributes = {}) {\n",
              "  const element = document.createElement('span');\n",
              "  element.textContent = text;\n",
              "  for (const key of Object.keys(styleAttributes)) {\n",
              "    element.style[key] = styleAttributes[key];\n",
              "  }\n",
              "  return element;\n",
              "}\n",
              "\n",
              "// Max number of bytes which will be uploaded at a time.\n",
              "const MAX_PAYLOAD_SIZE = 100 * 1024;\n",
              "\n",
              "function _uploadFiles(inputId, outputId) {\n",
              "  const steps = uploadFilesStep(inputId, outputId);\n",
              "  const outputElement = document.getElementById(outputId);\n",
              "  // Cache steps on the outputElement to make it available for the next call\n",
              "  // to uploadFilesContinue from Python.\n",
              "  outputElement.steps = steps;\n",
              "\n",
              "  return _uploadFilesContinue(outputId);\n",
              "}\n",
              "\n",
              "// This is roughly an async generator (not supported in the browser yet),\n",
              "// where there are multiple asynchronous steps and the Python side is going\n",
              "// to poll for completion of each step.\n",
              "// This uses a Promise to block the python side on completion of each step,\n",
              "// then passes the result of the previous step as the input to the next step.\n",
              "function _uploadFilesContinue(outputId) {\n",
              "  const outputElement = document.getElementById(outputId);\n",
              "  const steps = outputElement.steps;\n",
              "\n",
              "  const next = steps.next(outputElement.lastPromiseValue);\n",
              "  return Promise.resolve(next.value.promise).then((value) => {\n",
              "    // Cache the last promise value to make it available to the next\n",
              "    // step of the generator.\n",
              "    outputElement.lastPromiseValue = value;\n",
              "    return next.value.response;\n",
              "  });\n",
              "}\n",
              "\n",
              "/**\n",
              " * Generator function which is called between each async step of the upload\n",
              " * process.\n",
              " * @param {string} inputId Element ID of the input file picker element.\n",
              " * @param {string} outputId Element ID of the output display.\n",
              " * @return {!Iterable<!Object>} Iterable of next steps.\n",
              " */\n",
              "function* uploadFilesStep(inputId, outputId) {\n",
              "  const inputElement = document.getElementById(inputId);\n",
              "  inputElement.disabled = false;\n",
              "\n",
              "  const outputElement = document.getElementById(outputId);\n",
              "  outputElement.innerHTML = '';\n",
              "\n",
              "  const pickedPromise = new Promise((resolve) => {\n",
              "    inputElement.addEventListener('change', (e) => {\n",
              "      resolve(e.target.files);\n",
              "    });\n",
              "  });\n",
              "\n",
              "  const cancel = document.createElement('button');\n",
              "  inputElement.parentElement.appendChild(cancel);\n",
              "  cancel.textContent = 'Cancel upload';\n",
              "  const cancelPromise = new Promise((resolve) => {\n",
              "    cancel.onclick = () => {\n",
              "      resolve(null);\n",
              "    };\n",
              "  });\n",
              "\n",
              "  // Wait for the user to pick the files.\n",
              "  const files = yield {\n",
              "    promise: Promise.race([pickedPromise, cancelPromise]),\n",
              "    response: {\n",
              "      action: 'starting',\n",
              "    }\n",
              "  };\n",
              "\n",
              "  cancel.remove();\n",
              "\n",
              "  // Disable the input element since further picks are not allowed.\n",
              "  inputElement.disabled = true;\n",
              "\n",
              "  if (!files) {\n",
              "    return {\n",
              "      response: {\n",
              "        action: 'complete',\n",
              "      }\n",
              "    };\n",
              "  }\n",
              "\n",
              "  for (const file of files) {\n",
              "    const li = document.createElement('li');\n",
              "    li.append(span(file.name, {fontWeight: 'bold'}));\n",
              "    li.append(span(\n",
              "        `(${file.type || 'n/a'}) - ${file.size} bytes, ` +\n",
              "        `last modified: ${\n",
              "            file.lastModifiedDate ? file.lastModifiedDate.toLocaleDateString() :\n",
              "                                    'n/a'} - `));\n",
              "    const percent = span('0% done');\n",
              "    li.appendChild(percent);\n",
              "\n",
              "    outputElement.appendChild(li);\n",
              "\n",
              "    const fileDataPromise = new Promise((resolve) => {\n",
              "      const reader = new FileReader();\n",
              "      reader.onload = (e) => {\n",
              "        resolve(e.target.result);\n",
              "      };\n",
              "      reader.readAsArrayBuffer(file);\n",
              "    });\n",
              "    // Wait for the data to be ready.\n",
              "    let fileData = yield {\n",
              "      promise: fileDataPromise,\n",
              "      response: {\n",
              "        action: 'continue',\n",
              "      }\n",
              "    };\n",
              "\n",
              "    // Use a chunked sending to avoid message size limits. See b/62115660.\n",
              "    let position = 0;\n",
              "    do {\n",
              "      const length = Math.min(fileData.byteLength - position, MAX_PAYLOAD_SIZE);\n",
              "      const chunk = new Uint8Array(fileData, position, length);\n",
              "      position += length;\n",
              "\n",
              "      const base64 = btoa(String.fromCharCode.apply(null, chunk));\n",
              "      yield {\n",
              "        response: {\n",
              "          action: 'append',\n",
              "          file: file.name,\n",
              "          data: base64,\n",
              "        },\n",
              "      };\n",
              "\n",
              "      let percentDone = fileData.byteLength === 0 ?\n",
              "          100 :\n",
              "          Math.round((position / fileData.byteLength) * 100);\n",
              "      percent.textContent = `${percentDone}% done`;\n",
              "\n",
              "    } while (position < fileData.byteLength);\n",
              "  }\n",
              "\n",
              "  // All done.\n",
              "  yield {\n",
              "    response: {\n",
              "      action: 'complete',\n",
              "    }\n",
              "  };\n",
              "}\n",
              "\n",
              "scope.google = scope.google || {};\n",
              "scope.google.colab = scope.google.colab || {};\n",
              "scope.google.colab._files = {\n",
              "  _uploadFiles,\n",
              "  _uploadFilesContinue,\n",
              "};\n",
              "})(self);\n",
              "</script> "
            ]
          },
          "metadata": {}
        }
      ]
    },
    {
      "cell_type": "code",
      "metadata": {
        "id": "ZlpQmy5JLkiR"
      },
      "source": [
        "import io\n",
        "trainingdata = pd.read_csv(io.BytesIO(uploaded['training_data.csv']))\n",
        "testingdata = pd.read_csv(io.BytesIO(uploaded['testing_data.csv']))\n",
        "alldata = pd.read_csv(io.BytesIO(uploaded['complete_dataset.csv']))"
      ],
      "execution_count": null,
      "outputs": []
    },
    {
      "cell_type": "markdown",
      "metadata": {
        "id": "VbrPE9GW34lY"
      },
      "source": [
        "## Data Analysis"
      ]
    },
    {
      "cell_type": "code",
      "metadata": {
        "id": "q4BoW29H38O5"
      },
      "source": [
        "alldata.head()"
      ],
      "execution_count": null,
      "outputs": []
    },
    {
      "cell_type": "code",
      "metadata": {
        "id": "tPxdclC8tPL9"
      },
      "source": [
        "cor=alldata.corr()"
      ],
      "execution_count": null,
      "outputs": []
    },
    {
      "cell_type": "code",
      "metadata": {
        "id": "LLXBRnMEtdJl"
      },
      "source": [
        "#Retrieve corelation matrix between differnet parameters\n",
        "fig, ax = plt.subplots(figsize=(20,20))\n",
        "sns.heatmap(cor, annot=True, cmap=plt.cm.Reds)\n",
        "plt.show()"
      ],
      "execution_count": null,
      "outputs": []
    },
    {
      "cell_type": "code",
      "metadata": {
        "id": "gqVU61V0u-vc"
      },
      "source": [
        "#retrieving corelation of various parameters on leak\n",
        "cor_target = abs(cor[\"LEAK\"])\n",
        "#Selecting highly correlated features\n",
        "relevant_features = cor_target[cor_target>0.05]\n",
        "relevant_features"
      ],
      "execution_count": null,
      "outputs": []
    },
    {
      "cell_type": "code",
      "metadata": {
        "id": "eKSaJrEuDt9z"
      },
      "source": [
        "#Average Value of flow in case of no leak (blue) and leak (orange)\n",
        "#Large variation backs up the heavy dependence of flow on leak\n",
        "sns.barplot(x='LEAK',y='FLOW',data=alldata)"
      ],
      "execution_count": null,
      "outputs": []
    },
    {
      "cell_type": "code",
      "metadata": {
        "id": "LfvKOPcrDxjV"
      },
      "source": [
        "#Average Value of pressure in case of no leak (blue) and leak (orange)\n",
        "#Large variation backs up the heavy dependence of pressure on leak\n",
        "sns.barplot(x='LEAK',y='PRESSURE',data=alldata)"
      ],
      "execution_count": null,
      "outputs": []
    },
    {
      "cell_type": "code",
      "metadata": {
        "id": "kg_vLnhYFDNG"
      },
      "source": [
        "#Average Value of temperature in case of no leak (blue) and leak (orange)\n",
        "sns.barplot(x='LEAK',y='TT03',data=alldata)"
      ],
      "execution_count": null,
      "outputs": []
    },
    {
      "cell_type": "code",
      "metadata": {
        "id": "sLAxOxqV1naP"
      },
      "source": [
        "#Average Value of flow in case of no leak (blue) and leak (orange)\n",
        "#Large variation backs up the heavy dependence of vibration of a pipe on leak\n",
        "sns.barplot(x='LEAK',y='VIBRATION',data=alldata)"
      ],
      "execution_count": null,
      "outputs": []
    },
    {
      "cell_type": "code",
      "metadata": {
        "id": "Z3VsSxReHD79"
      },
      "source": [
        "sns.distplot(alldata['LEAK'],kde=False)"
      ],
      "execution_count": null,
      "outputs": []
    },
    {
      "cell_type": "code",
      "metadata": {
        "id": "W16ggv_FBcbD"
      },
      "source": [
        "#Pressure vs. Flow relation in case of a leak and no leak\n",
        "sns.lmplot(x='FLOW',y='PRESSURE',data=alldata,hue='LEAK', markers=['o','v'])"
      ],
      "execution_count": null,
      "outputs": []
    },
    {
      "cell_type": "code",
      "metadata": {
        "id": "8PhngcPUCF4I"
      },
      "source": [
        "#Vibration vs. Flow relation in case of a leak and no leak\n",
        "sns.lmplot(x='FLOW',y='VIBRATION',data=alldata,hue='LEAK', markers=['o','v'])"
      ],
      "execution_count": null,
      "outputs": []
    },
    {
      "cell_type": "code",
      "metadata": {
        "id": "GuiT9vJ9CL9a"
      },
      "source": [
        "#Vibration vs. Pressure relation in case of a leak and no leak\n",
        "sns.lmplot(x='VIBRATION',y='PRESSURE',data=alldata,hue='LEAK', markers=['o','v'])"
      ],
      "execution_count": null,
      "outputs": []
    },
    {
      "cell_type": "markdown",
      "metadata": {
        "id": "Abr8w6Mh4iZs"
      },
      "source": [
        "##Data Loading and Shuffling"
      ]
    },
    {
      "cell_type": "code",
      "metadata": {
        "id": "8PS__1FPLm5U"
      },
      "source": [
        "tr=trainingdata.to_numpy()\n",
        "te=testingdata.to_numpy()\n",
        "xtrain=tr[:,1:21] #training data input\n",
        "ytrain=tr[:,21:23] #training data's ground truth\n",
        "xtest=te[:,1:21] #testing data input\n",
        "ytest=te[:,21:23] #testing data ground truth"
      ],
      "execution_count": null,
      "outputs": []
    },
    {
      "cell_type": "code",
      "metadata": {
        "id": "B21wGIfil5Ax"
      },
      "source": [
        "def shuffle_in_unison(a, b): # Inplace shuffling\n",
        "    rng_state = np.random.get_state()\n",
        "    np.random.shuffle(a)\n",
        "    np.random.set_state(rng_state)\n",
        "    np.random.shuffle(b)\n",
        "    return a,b"
      ],
      "execution_count": null,
      "outputs": []
    },
    {
      "cell_type": "code",
      "metadata": {
        "id": "C2v5bWYnl6AW"
      },
      "source": [
        "xtrain,ytrain = shuffle_in_unison(xtrain,ytrain)\n",
        "xtest,ytest = shuffle_in_unison(xtest,ytest)"
      ],
      "execution_count": null,
      "outputs": []
    },
    {
      "cell_type": "markdown",
      "metadata": {
        "id": "Xrwv3okT4xbU"
      },
      "source": [
        "##Model Training"
      ]
    },
    {
      "cell_type": "code",
      "metadata": {
        "id": "9owsrrfN2I0T"
      },
      "source": [
        "model=Sequential()\n",
        "model.add(Dense(4,input_dim=20,activation='relu',use_bias='True',kernel_regularizer=regularizers.l1_l2(l1=0.01,l2=0.01)))\n",
        "#model.add(Dense(4,activation='relu'))\n",
        "model.add(Dense(2,activation='sigmoid'))\n",
        "model.compile(loss='binary_crossentropy',optimizer='adadelta', metrics=['accuracy'])\n",
        "model.summary()\n",
        "history_model=model.fit(xtrain,ytrain,epochs=100)"
      ],
      "execution_count": null,
      "outputs": []
    },
    {
      "cell_type": "code",
      "metadata": {
        "id": "FYD8ARVULzOs"
      },
      "source": [
        "#to plot model performance measures\n",
        "history = history_model\n",
        "\n",
        "plt.plot(history.history['loss'])\n",
        "plt.title('Loss Function vs. Epochs')\n",
        "plt.ylabel('Loss')\n",
        "plt.xlabel('Epoch')\n",
        "plt.show()"
      ],
      "execution_count": null,
      "outputs": []
    },
    {
      "cell_type": "markdown",
      "metadata": {
        "id": "RoyuDSe549G4"
      },
      "source": [
        "##Model Testing"
      ]
    },
    {
      "cell_type": "code",
      "metadata": {
        "id": "POWVUYH15BDg"
      },
      "source": [
        "#Test the model based on testing data and obtain confusion matrix, precision, recall, accuracy and F1-score\n",
        "def getresults(model,data_test,y_test,batch):\n",
        "    y_pred = model.predict(data_test,batch_size=batch)\n",
        "    print(metrics.confusion_matrix(y_test.argmax(axis=1), y_pred.argmax(axis=1)))\n",
        "    print(metrics.classification_report(y_test.argmax(axis=1), y_pred.argmax(axis=1), digits=3))"
      ],
      "execution_count": null,
      "outputs": []
    },
    {
      "cell_type": "code",
      "metadata": {
        "id": "cvFyKAAFMCVc"
      },
      "source": [
        "\n",
        "getresults(model,xtest,ytest,1)\n",
        "print('Legends - \\n 0 : leak \\n 1 : no leak')"
      ],
      "execution_count": null,
      "outputs": []
    },
    {
      "cell_type": "markdown",
      "metadata": {
        "id": "HFCCvCPD3JkH"
      },
      "source": [
        "### Observations (For Test Data) -\n",
        "\n",
        "\n",
        "\n",
        "*   Leak classified as no leak = 2/61\n",
        "*   No leak classified as leak = 6/39\n",
        "\n",
        "\n",
        "*   Precision - Out of all predicted as positive (TP +FP), how many of them were actually positive (TP)\n",
        "*   Recall - Out of all actually positive (TP+FN), how many of them were predicted positive (TP)\n",
        "\n",
        "For Leak,\n",
        "Precision=92.5%\n",
        "and Recall=90.7%\n",
        "\n",
        "\n",
        "\n",
        "   \n",
        "\n"
      ]
    }
  ]
}